{
  "nbformat": 4,
  "nbformat_minor": 0,
  "metadata": {
    "colab": {
      "provenance": []
    },
    "kernelspec": {
      "name": "python3",
      "display_name": "Python 3"
    },
    "language_info": {
      "name": "python"
    }
  },
  "cells": [
    {
      "cell_type": "markdown",
      "source": [
        "1. Explain the different types of data (qualitative and quantitative) and provide examples of each. Discuss\n",
        "nominal, ordinal, interval, and ratio scales.\n",
        "\n",
        "   Quantitative Data : It is type of numerical data , Quantitative data represents quantities and can be measured and expressed numerically.\n",
        "   example : Height (e.g., 170 cm) ,Temperature (e.g., 22°C)\n",
        "   Qualitative Data : It is type of Categorical Data , Qualitative data describes qualities or characteristics. It is non-numeric and used to categorize or label variables.\n",
        "   Examples:  Gender (e.g., male, female, non-binary) , eye color .\n",
        "   \n",
        "   Nominal Scale : Categorizes data without any order.\n",
        "   Example:  Marital status: Single, Married, Divorced\n",
        "   \n",
        "   Ordinal Scale : Categorizes data with a meaningful order but no consistent interval between categories. Example: Education level: High School < Bachelor’s < Master’s < PhD\n",
        "\n",
        "   Interval Scale : Numeric scale with equal intervals, but no true zero point.\n",
        "   Example: Temperature in Celsius or Fahrenheit\n",
        "\n",
        "   Ratio Scale : It is Like the interval scale, but with a true zero point.All mathematical operations are valid .\n",
        "   Example: Weight (0 kg means no weight)\n",
        "\n",
        "\n",
        "   \n",
        "\n",
        "\n"
      ],
      "metadata": {
        "id": "mGge_TEzWV9f"
      }
    },
    {
      "cell_type": "markdown",
      "source": [
        "2. What are the measures of central tendency, and when should you use each? Discuss the mean, median,\n",
        "and mode with examples and situations where each is appropriate.\n",
        "  \n",
        "  Mean (Average) :The mean is the sum of all values divided by the number of values.    \n",
        "​Example : If five students scored: 70, 75, 80, 85, and 90\n",
        "    \n",
        "     mean = (70+75+80+85+90)/5 = 80\n",
        "  \n",
        "  Median  : The median is the middle value when data is arranged in ascending or descending order. If the number of values is odd, the middle one is the median. If it's even, it's the average of the two middle values.\n",
        "  \n",
        "  Example:    Data: 10, 15, 20, 25, 30\n",
        "     Median = 20\n",
        "\n",
        "     Mean : The mean is the sum of all values divided by the number of values.\n",
        "    \n",
        "    example : 80, 85, 90, 95, 100\n",
        "           (80+85+95+90+100)/5 = 90\n",
        "      Mode : The mode is the value that occurs most frequently in the dataset.  Especially useful for categorical data.\n",
        "\n",
        "Example : 8,3,4,5,5,5,6,,7,8\n",
        "\n",
        "Mode : 5\n",
        "\n",
        "\n",
        "\n"
      ],
      "metadata": {
        "id": "DBFba5H9au2w"
      }
    },
    {
      "cell_type": "markdown",
      "source": [
        "3. Explain the concept of dispersion. How do variance and standard deviation measure the spread of data?\n",
        "\n",
        " Dispersion refers to how spread out or scattered the values in a dataset are. It tells us how much the values deviate from the central tendency Low dispersion means the data points are close to the average. High dispersion means the data points are spread out widely.\n",
        "\n",
        " Variance : The average of the squared differences between each data point and the mean.\n",
        "\n",
        " xi : each data value\n",
        "\n",
        " μ: population mean\n",
        "\n",
        " N: number of data points\n",
        "\n",
        " Standard Deviation: The square root of the variance. It brings the units back to the original scale of the data.\n",
        "\n"
      ],
      "metadata": {
        "id": "j4tVu309kzlq"
      }
    },
    {
      "cell_type": "markdown",
      "source": [
        "4. What is a box plot, and what can it tell you about the distribution of data?\n",
        "\n",
        "A box plot is a graphical representation of a dataset’s distribution based on five key summary statistics.\n",
        "\n",
        "Box: Spans from Q1 to Q3 .\n",
        "\n",
        "Line inside the box: The median.\n",
        "\n",
        "Whiskers: Lines extending from the box to the minimum and maximum values .\n",
        "\n",
        "Dots : Represent outliers, which are unusually high or low values.\n",
        "\n",
        "Spread of Data:\n",
        "The width of the box (Q3 − Q1) shows the interquartile range (IQR), which tells how spread out the middle 50% of data is.\n",
        "\n",
        "Center of Data:\n",
        "The median line shows the central value of the dataset.\n",
        "\n",
        "Skewness:\n",
        "\n",
        "If the median is closer to Q1, the data is right-skewed.\n",
        "\n",
        "If it’s closer to Q3, the data is left-skewed.\n",
        "\n",
        "If it’s centered, the data is symmetrical."
      ],
      "metadata": {
        "id": "It3lDtV1m0f_"
      }
    },
    {
      "cell_type": "markdown",
      "source": [
        "5. Discuss the role of random sampling in making inferences about populations .\n",
        "\n",
        "Random sampling is a method where every member of a population has an equal chance of being selected for a sample.\n",
        "\n",
        "By giving all individuals an equal chance of selection, random sampling helps avoid selection bias, which occurs when some members are more likely to be chosen than others.\n",
        "\n",
        "A good random sample reflects the diversity and characteristics of the entire population, allowing researchers to generalize results more accurately."
      ],
      "metadata": {
        "id": "VHuewFhKn3iJ"
      }
    },
    {
      "cell_type": "markdown",
      "source": [
        "6. Explain the concept of skewness and its types. How does skewness affect the interpretation of data?\n",
        "\n",
        "Skewness measures the asymmetry of a data distribution. In a perfectly symmetrical distribution (like a normal bell curve), the mean, median, and mode are all the same.\n",
        "\n",
        " Types of Skewness : Positive Skew ,\n",
        "                     Negative Skew , No Skew (Symmetrical Distribution)\n",
        "\n",
        "Affects Measures of Central Tendency : In skewed data, the mean is pulled toward the tail, which can misrepresent the \"typical\" value.\n",
        "\n",
        "Influences Decision-Making : In education, negatively skewed test scores might mean most students did well, with a few low scores pulling the average down.\n",
        "\n",
        "Impacts Statistical Analysis  : Some tests assume normality. If data is heavily skewed, results may be misleading unless transformed or corrected.\n",
        "\n"
      ],
      "metadata": {
        "id": "jb6YaPqjoq3b"
      }
    },
    {
      "cell_type": "markdown",
      "source": [
        "7. What is the interquartile range (IQR), and how is it used to detect outliers?\n",
        "\n",
        "The Interquartile Range (IQR) is a measure of spread that describes the range of the middle 50% of a dataset.\n",
        "\n",
        "IQR is calculated using quartiles:\n",
        "\n",
        "Q1 (First Quartile): The 25th percentile – the value below which 25% of the data falls.\n",
        "\n",
        "Q3 (Third Quartile): The 75th percentile – the value below which 75% of the data falls.\n",
        "IQR=Q3−Q1\n",
        "\n",
        "Outliers are data points that fall far outside the typical range. We can use the IQR to find them using this rule:\n",
        "\n",
        "Lower Bound = Q1 − 1.5 × IQR\n",
        "\n",
        "Upper Bound = Q3 + 1.5 × IQR\n",
        "\n",
        "\n",
        "\n"
      ],
      "metadata": {
        "id": "3wB79EdrqYNy"
      }
    },
    {
      "cell_type": "markdown",
      "source": [
        "8. Discuss the conditions under which the binomial distribution is used.\n",
        "\n",
        "The binomial distribution is a probability distribution that describes the number of successes in a fixed number of independent trials, where each trial has only two possible outcomes: success or failure.\n",
        "\n",
        "1. Fixed Number of Trials :  The experiment must consist of a set number of trials.\n",
        "\n",
        "Example: Flipping a coin 20 times.\n",
        "\n",
        "2. Only Two Possible Outcomes\n",
        "Each trial results in one of two outcomes: success or failure.\n",
        "\n",
        "Example:\n",
        "\n",
        "Success = getting heads\n",
        "\n",
        "3. Constant Probability of Success (p)\n",
        "The probability of success stays the same for every trial.\n",
        "\n",
        "Example: In a fair coin toss, the probability of heads is always 0.5.\n",
        "\n",
        "\n",
        "\n"
      ],
      "metadata": {
        "id": "O3vzPC2JrGzG"
      }
    },
    {
      "cell_type": "markdown",
      "source": [
        "9. Explain the properties of the normal distribution and the empirical rule (68-95-99.7 rule).\n",
        "\n",
        "The normal distribution is one of the most important and widely used probability distributions in statistics. It describes how values of a variable are distributed when the data tends to cluster around a central point.\n",
        "\n",
        "Symmetrical Shape : The curve is perfectly symmetrical around the mean.\n",
        "\n",
        "Left side = Right side.\n",
        "\n",
        "Bell-Shaped Curve : The highest point is at the mean, and the frequencies decrease as you move away.\n",
        "\n",
        "Mean = Median = Mode\n",
        "\n",
        "All three measures of central tendency are located at the center of the distribution.\n",
        "\n",
        "The Empirical Rule (68-95-99.7 Rule) : The empirical rule helps us understand how data is spread in a normal distribution using standard deviations from the mean:"
      ],
      "metadata": {
        "id": "pnivwKRpr-we"
      }
    },
    {
      "cell_type": "markdown",
      "source": [
        "10. Provide a real-life example of a Poisson process and calculate the probability for a specific event.\n",
        "\n",
        "\n",
        "A Poisson process models the number of times an event occurs in a fixed interval of time, area, distance, or volume, given that:\n",
        "\n",
        "Events occur independently.\n",
        "The average rate  is constant.\n",
        "\n",
        "Real-Life Example : A call center receives an average of 6 calls per hour.\n",
        "We want to find the probability that the center receives exactly 4 calls in an hour.\n",
        "\n",
        "\n"
      ],
      "metadata": {
        "id": "N26sa8Ips-A8"
      }
    },
    {
      "cell_type": "markdown",
      "source": [
        "11. Explain what a random variable is and differentiate between discrete and continuous random variables.\n",
        "\n",
        "A random variable is a variable that takes on different numerical values based on the outcome of a random experiment.\n",
        "\n",
        "It assigns a number to each possible outcome.\n",
        "\n",
        "Think of it as a bridge between probability and numerical values.\n",
        "\n",
        "Discrete Random Variable : Takes on countable values .You can list all the possible outcomes.\n",
        "\n",
        "Continuous Random Variable :Takes on an infinite number of values within a range. Often involves measurements ."
      ],
      "metadata": {
        "id": "aw5lDZ9uuCRt"
      }
    },
    {
      "cell_type": "markdown",
      "source": [
        "12. Provide an example dataset, calculate both covariance and correlation, and interpret the results.\n",
        "\n",
        "\n",
        "Student\tHours Studied (X)\tTest Score (Y)\n",
        "A\t1\t50\n",
        "\n",
        "B\t2\t60\n",
        "\n",
        "C\t3\t67\n",
        "\n",
        "D\t4\t89\n",
        "\n",
        "E\t5\t75\n",
        "\n",
        "x = (1+2+3+4+5)/5 = 3\n",
        "\n",
        "y = (50+60+67+89+75)/5 = 68.2\n",
        "\n",
        "This positive value tells us that as hours studied increase, test scores also tend to increase.\n",
        "\n"
      ],
      "metadata": {
        "id": "DoJw7rx-u_ds"
      }
    }
  ]
}